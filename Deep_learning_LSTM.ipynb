{
  "cells": [
    {
      "cell_type": "markdown",
      "id": "f021b67e",
      "metadata": {
        "id": "f021b67e"
      },
      "source": [
        "## Machine Learning"
      ]
    },
    {
      "cell_type": "code",
      "execution_count": null,
      "id": "4cebb9e8",
      "metadata": {
        "id": "4cebb9e8"
      },
      "outputs": [],
      "source": [
        "%matplotlib inline\n",
        "import warnings\n",
        "warnings.filterwarnings('ignore')\n",
        "import sqlite3\n",
        "import pandas as pd\n",
        "import numpy as np\n",
        "import nltk\n",
        "import string\n",
        "import matplotlib.pyplot as plt\n",
        "import seaborn as sns\n",
        "from sklearn.feature_extraction.text import TfidfTransformer\n",
        "from sklearn.feature_extraction.text import TfidfVectorizer\n",
        "\n",
        "from sklearn.feature_extraction.text import CountVectorizer\n",
        "from sklearn.metrics import confusion_matrix\n",
        "from sklearn import metrics\n",
        "from sklearn.metrics import roc_curve, auc\n",
        "from nltk.stem.porter import PorterStemmer\n",
        "import re\n",
        "from nltk.corpus import stopwords\n",
        "from nltk.stem import PorterStemmer\n",
        "from nltk.stem.wordnet import WordNetLemmatizer\n",
        "from gensim.models import Word2Vec\n",
        "from gensim.models import KeyedVectors\n",
        "import pickle\n",
        "from sklearn.metrics import roc_auc_score\n",
        "from tqdm import tqdm\n",
        "import os\n",
        "#from plotly import plotly\n",
        "#import plotly.offline as offline\n",
        "#import plotly.graph_objs as go\n",
        "#offline.init_notebook_mode()\n",
        "from collections import Counter\n",
        "from sklearn.preprocessing import StandardScaler\n",
        "from sklearn.preprocessing import MinMaxScaler\n",
        "import tensorflow as tf\n",
        "from tensorflow.keras.preprocessing import sequence\n",
        "from tensorflow.keras.models import Sequential\n",
        "from tensorflow.keras.layers import Dense, Activation,Flatten,Reshape\n",
        "from tensorflow.keras.layers import Embedding\n",
        "from tensorflow.keras.layers import LSTM\n",
        "from tensorflow.keras.preprocessing.text import Tokenizer\n",
        "import csv\n",
        "from tensorflow.keras.models import Model\n",
        "#import keras\n",
        "from tensorflow.keras import backend as k\n",
        "from tensorflow.keras.layers import Input,Concatenate,Dropout,Dense,BatchNormalization,Conv1D\n",
        "from tensorflow.keras.layers import Input\n",
        "from sklearn.preprocessing import LabelEncoder,OneHotEncoder\n",
        "#from tensorflow.keras.merge import concatenate\n",
        "#import tensorflow as tf\n",
        "from tensorflow.keras.preprocessing.sequence import pad_sequences\n",
        "import scipy\n",
        "from tensorflow.keras.initializers import he_normal,glorot_normal\n",
        "from tensorflow.keras.regularizers import l1,l2\n",
        "from tensorflow.python.keras.callbacks import TensorBoard\n",
        "from tensorflow.keras.callbacks import Callback, EarlyStopping, ModelCheckpoint,LearningRateScheduler,ReduceLROnPlateau\n",
        "from time import time\n",
        "from tensorflow.keras.utils import plot_model"
      ]
    },
    {
      "cell_type": "code",
      "execution_count": null,
      "id": "oMppRTPvX9EZ",
      "metadata": {
        "colab": {
          "base_uri": "https://localhost:8080/"
        },
        "id": "oMppRTPvX9EZ",
        "outputId": "c0e15f52-6f62-437d-a906-2925b998b686"
      },
      "outputs": [
        {
          "name": "stdout",
          "output_type": "stream",
          "text": [
            "Drive already mounted at /content/gdrive; to attempt to forcibly remount, call drive.mount(\"/content/gdrive\", force_remount=True).\n"
          ]
        }
      ],
      "source": [
        "from google.colab import drive\n",
        "drive.mount('/content/gdrive')"
      ]
    },
    {
      "cell_type": "code",
      "execution_count": null,
      "id": "d4517a18",
      "metadata": {
        "colab": {
          "base_uri": "https://localhost:8080/",
          "height": 202
        },
        "id": "d4517a18",
        "outputId": "ac77bbee-a391-446d-bd26-859cc710b1bb"
      },
      "outputs": [
        {
          "data": {
            "text/html": [
              "<div>\n",
              "<style scoped>\n",
              "    .dataframe tbody tr th:only-of-type {\n",
              "        vertical-align: middle;\n",
              "    }\n",
              "\n",
              "    .dataframe tbody tr th {\n",
              "        vertical-align: top;\n",
              "    }\n",
              "\n",
              "    .dataframe thead th {\n",
              "        text-align: right;\n",
              "    }\n",
              "</style>\n",
              "<table border=\"1\" class=\"dataframe\">\n",
              "  <thead>\n",
              "    <tr style=\"text-align: right;\">\n",
              "      <th></th>\n",
              "      <th>label</th>\n",
              "      <th>comment</th>\n",
              "      <th>author</th>\n",
              "      <th>subreddit</th>\n",
              "      <th>score</th>\n",
              "      <th>ups</th>\n",
              "      <th>downs</th>\n",
              "      <th>date</th>\n",
              "      <th>created_utc</th>\n",
              "      <th>parent_comment</th>\n",
              "    </tr>\n",
              "  </thead>\n",
              "  <tbody>\n",
              "    <tr>\n",
              "      <th>0</th>\n",
              "      <td>0</td>\n",
              "      <td>NC and NH.</td>\n",
              "      <td>Trumpbart</td>\n",
              "      <td>politics</td>\n",
              "      <td>2</td>\n",
              "      <td>-1</td>\n",
              "      <td>-1</td>\n",
              "      <td>2016-10</td>\n",
              "      <td>2016-10-16 23:55:23</td>\n",
              "      <td>Yeah, I get that argument. At this point, I'd ...</td>\n",
              "    </tr>\n",
              "    <tr>\n",
              "      <th>1</th>\n",
              "      <td>0</td>\n",
              "      <td>You do know west teams play against west teams...</td>\n",
              "      <td>Shbshb906</td>\n",
              "      <td>nba</td>\n",
              "      <td>-4</td>\n",
              "      <td>-1</td>\n",
              "      <td>-1</td>\n",
              "      <td>2016-11</td>\n",
              "      <td>2016-11-01 00:24:10</td>\n",
              "      <td>The blazers and Mavericks (The wests 5 and 6 s...</td>\n",
              "    </tr>\n",
              "    <tr>\n",
              "      <th>2</th>\n",
              "      <td>0</td>\n",
              "      <td>They were underdogs earlier today, but since G...</td>\n",
              "      <td>Creepeth</td>\n",
              "      <td>nfl</td>\n",
              "      <td>3</td>\n",
              "      <td>3</td>\n",
              "      <td>0</td>\n",
              "      <td>2016-09</td>\n",
              "      <td>2016-09-22 21:45:37</td>\n",
              "      <td>They're favored to win.</td>\n",
              "    </tr>\n",
              "    <tr>\n",
              "      <th>3</th>\n",
              "      <td>0</td>\n",
              "      <td>This meme isn't funny none of the \"new york ni...</td>\n",
              "      <td>icebrotha</td>\n",
              "      <td>BlackPeopleTwitter</td>\n",
              "      <td>-8</td>\n",
              "      <td>-1</td>\n",
              "      <td>-1</td>\n",
              "      <td>2016-10</td>\n",
              "      <td>2016-10-18 21:03:47</td>\n",
              "      <td>deadass don't kill my buzz</td>\n",
              "    </tr>\n",
              "    <tr>\n",
              "      <th>4</th>\n",
              "      <td>0</td>\n",
              "      <td>I could use one of those tools.</td>\n",
              "      <td>cush2push</td>\n",
              "      <td>MaddenUltimateTeam</td>\n",
              "      <td>6</td>\n",
              "      <td>-1</td>\n",
              "      <td>-1</td>\n",
              "      <td>2016-12</td>\n",
              "      <td>2016-12-30 17:00:13</td>\n",
              "      <td>Yep can confirm I saw the tool they use for th...</td>\n",
              "    </tr>\n",
              "  </tbody>\n",
              "</table>\n",
              "</div>"
            ],
            "text/plain": [
              "   label  ...                                     parent_comment\n",
              "0      0  ...  Yeah, I get that argument. At this point, I'd ...\n",
              "1      0  ...  The blazers and Mavericks (The wests 5 and 6 s...\n",
              "2      0  ...                            They're favored to win.\n",
              "3      0  ...                         deadass don't kill my buzz\n",
              "4      0  ...  Yep can confirm I saw the tool they use for th...\n",
              "\n",
              "[5 rows x 10 columns]"
            ]
          },
          "execution_count": 4,
          "metadata": {},
          "output_type": "execute_result"
        }
      ],
      "source": [
        "import pandas as pd\n",
        "data=pd.read_csv('/content/gdrive/MyDrive/Case Study-2(Sarcastic Comments-REDDIT)/train-balanced-sarcasm.csv')\n",
        "data.head()"
      ]
    },
    {
      "cell_type": "code",
      "execution_count": null,
      "id": "92cf57b9",
      "metadata": {
        "colab": {
          "base_uri": "https://localhost:8080/"
        },
        "id": "92cf57b9",
        "outputId": "5ac59ac0-f01a-44a5-affd-980d90475acc"
      },
      "outputs": [
        {
          "data": {
            "text/plain": [
              "label              0\n",
              "comment           53\n",
              "author             0\n",
              "subreddit          0\n",
              "score              0\n",
              "ups                0\n",
              "downs              0\n",
              "date               0\n",
              "created_utc        0\n",
              "parent_comment     0\n",
              "dtype: int64"
            ]
          },
          "execution_count": 5,
          "metadata": {},
          "output_type": "execute_result"
        }
      ],
      "source": [
        "data.isnull().sum()"
      ]
    },
    {
      "cell_type": "code",
      "execution_count": null,
      "id": "93f31ddc",
      "metadata": {
        "id": "93f31ddc"
      },
      "outputs": [],
      "source": [
        "data['comment']=data['comment'].fillna('No Comment')"
      ]
    },
    {
      "cell_type": "code",
      "execution_count": null,
      "id": "79af9648",
      "metadata": {
        "id": "79af9648"
      },
      "outputs": [],
      "source": [
        "# Remove Emoji\n",
        "def deEmojify(text):\n",
        "    regrex_pattern = re.compile(pattern = \"[\"\n",
        "        u\"\\U0001F600-\\U0001F64F\"  # emoticons\n",
        "        u\"\\U0001F300-\\U0001F5FF\"  # symbols & pictographs\n",
        "        u\"\\U0001F680-\\U0001F6FF\"  # transport & map symbols\n",
        "        u\"\\U0001F1E0-\\U0001F1FF\"  # flags (iOS)\n",
        "                           \"]+\", flags = re.UNICODE)\n",
        "    return regrex_pattern.sub(r'',text)"
      ]
    },
    {
      "cell_type": "code",
      "execution_count": null,
      "id": "6ff6919c",
      "metadata": {
        "id": "6ff6919c"
      },
      "outputs": [],
      "source": [
        "def decontractions(phrase):\n",
        "    \"\"\"decontracted takes text and convert contractions into natural form.\n",
        "     ref: https://stackoverflow.com/questions/19790188/expanding-english-language-contractions-in-python/47091490#47091490\"\"\"\n",
        "    # specific\n",
        "    phrase = re.sub(r\"won\\'t\", \"will not\", phrase)\n",
        "    phrase = re.sub(r\"can\\'t\", \"can not\", phrase)\n",
        "    phrase = re.sub(r\"won\\’t\", \"will not\", phrase)\n",
        "    phrase = re.sub(r\"can\\’t\", \"can not\", phrase)\n",
        "\n",
        "    # general\n",
        "    phrase = re.sub(r\"n\\'t\", \" not\", phrase)\n",
        "    phrase = re.sub(r\"\\'re\", \" are\", phrase)\n",
        "    phrase = re.sub(r\"\\'s\", \" is\", phrase)\n",
        "    phrase = re.sub(r\"\\'d\", \" would\", phrase)\n",
        "    phrase = re.sub(r\"\\'ll\", \" will\", phrase)\n",
        "    phrase = re.sub(r\"\\'t\", \" not\", phrase)\n",
        "    phrase = re.sub(r\"\\'ve\", \" have\", phrase)\n",
        "    phrase = re.sub(r\"\\'m\", \" am\", phrase)\n",
        "\n",
        "    phrase = re.sub(r\"n\\’t\", \" not\", phrase)\n",
        "    phrase = re.sub(r\"\\’re\", \" are\", phrase)\n",
        "    phrase = re.sub(r\"\\’s\", \" is\", phrase)\n",
        "    phrase = re.sub(r\"\\’d\", \" would\", phrase)\n",
        "    phrase = re.sub(r\"\\’ll\", \" will\", phrase)\n",
        "    phrase = re.sub(r\"\\’t\", \" not\", phrase)\n",
        "    phrase = re.sub(r\"\\’ve\", \" have\", phrase)\n",
        "    phrase = re.sub(r\"\\’m\", \" am\", phrase)\n",
        "\n",
        "    return phrase"
      ]
    },
    {
      "cell_type": "code",
      "execution_count": null,
      "id": "Zk8aWj1KYb8L",
      "metadata": {
        "colab": {
          "base_uri": "https://localhost:8080/"
        },
        "id": "Zk8aWj1KYb8L",
        "outputId": "be1d702e-281b-4b50-b220-18069f5a4616"
      },
      "outputs": [
        {
          "name": "stdout",
          "output_type": "stream",
          "text": [
            "[nltk_data] Downloading package stopwords to /root/nltk_data...\n",
            "[nltk_data]   Package stopwords is already up-to-date!\n"
          ]
        },
        {
          "data": {
            "text/plain": [
              "True"
            ]
          },
          "execution_count": 10,
          "metadata": {},
          "output_type": "execute_result"
        }
      ],
      "source": [
        "import nltk\n",
        "nltk.download('stopwords')"
      ]
    },
    {
      "cell_type": "code",
      "execution_count": null,
      "id": "d1832119",
      "metadata": {
        "id": "d1832119"
      },
      "outputs": [],
      "source": [
        "from nltk.corpus import stopwords\n",
        "from tqdm import tqdm\n",
        "import re\n",
        "stopwords = stopwords.words('english')\n",
        "def preprocess(text_col,stopword):\n",
        "    preprocessed = []\n",
        "    for sentence in tqdm(text_col.values):\n",
        "        # Replace \"carriage return\" with \"space\".\n",
        "        sentence=str(sentence)\n",
        "        sent = sentence.replace('\\\\r', ' ')\n",
        "        # Replace \"quotes\" with \"space\".\n",
        "        sent = sent.replace('\\\\\"', ' ')\n",
        "        # Replace \"line feed\" with \"space\".\n",
        "        sent = sent.replace('\\\\n', ' ')\n",
        "        # Replace characters between words with \"space\".\n",
        "        sent = re.sub('[^A-Za-z0-9]+', ' ', sent)\n",
        "        #remove stop words\n",
        "        #decontraction\n",
        "        sent=decontractions(sent)\n",
        "        #Remove emoji\n",
        "        sent=deEmojify(sent)\n",
        "        if stopword:\n",
        "            sent = ' '.join(e for e in sent.split() if e not in stopwords)\n",
        "        else:\n",
        "           sent = ' '.join(e for e in sent.split())\n",
        "        # to lowercase\n",
        "        preprocessed.append(sent.lower().strip())\n",
        "    return preprocessed"
      ]
    },
    {
      "cell_type": "code",
      "execution_count": null,
      "id": "7c7a5327",
      "metadata": {
        "colab": {
          "base_uri": "https://localhost:8080/"
        },
        "id": "7c7a5327",
        "outputId": "23bca24c-fc73-4df3-aa00-86ef23f689ee"
      },
      "outputs": [
        {
          "name": "stderr",
          "output_type": "stream",
          "text": [
            "100%|██████████| 1010826/1010826 [00:25<00:00, 39170.14it/s]\n"
          ]
        }
      ],
      "source": [
        "data['comment']=preprocess(data['comment'],stopword=False)"
      ]
    },
    {
      "cell_type": "code",
      "execution_count": null,
      "id": "317c0268",
      "metadata": {
        "colab": {
          "base_uri": "https://localhost:8080/"
        },
        "id": "317c0268",
        "outputId": "902cd633-1944-4a95-a28d-1d2c4c1ab9b8"
      },
      "outputs": [
        {
          "name": "stderr",
          "output_type": "stream",
          "text": [
            "100%|██████████| 1010826/1010826 [00:32<00:00, 30761.52it/s]\n"
          ]
        }
      ],
      "source": [
        "data['parent_comment']=preprocess(data['parent_comment'],stopword=False)"
      ]
    },
    {
      "cell_type": "code",
      "execution_count": null,
      "id": "2eba4c80",
      "metadata": {
        "colab": {
          "base_uri": "https://localhost:8080/"
        },
        "id": "2eba4c80",
        "outputId": "3705e37b-425e-4ef4-e712-43a852d7f35d"
      },
      "outputs": [
        {
          "data": {
            "text/plain": [
              "label             0\n",
              "comment           0\n",
              "author            0\n",
              "subreddit         0\n",
              "score             0\n",
              "ups               0\n",
              "downs             0\n",
              "date              0\n",
              "created_utc       0\n",
              "parent_comment    0\n",
              "dtype: int64"
            ]
          },
          "execution_count": 14,
          "metadata": {},
          "output_type": "execute_result"
        }
      ],
      "source": [
        "data.isnull().sum()"
      ]
    },
    {
      "cell_type": "code",
      "execution_count": null,
      "id": "bfgb3ize9dyl",
      "metadata": {
        "colab": {
          "base_uri": "https://localhost:8080/"
        },
        "id": "bfgb3ize9dyl",
        "outputId": "c4074ee9-d163-46c0-c6d7-a8c9ba850d39"
      },
      "outputs": [
        {
          "name": "stdout",
          "output_type": "stream",
          "text": [
            "[nltk_data] Downloading package vader_lexicon to /root/nltk_data...\n",
            "[nltk_data]   Package vader_lexicon is already up-to-date!\n"
          ]
        },
        {
          "data": {
            "text/plain": [
              "True"
            ]
          },
          "execution_count": 15,
          "metadata": {},
          "output_type": "execute_result"
        }
      ],
      "source": [
        "import nltk\n",
        "nltk.download('vader_lexicon')"
      ]
    },
    {
      "cell_type": "markdown",
      "id": "uUr78WCH97Vi",
      "metadata": {
        "id": "uUr78WCH97Vi"
      },
      "source": [
        "Polarity Score"
      ]
    },
    {
      "cell_type": "code",
      "execution_count": null,
      "id": "xdXUDWG08mt2",
      "metadata": {
        "id": "xdXUDWG08mt2"
      },
      "outputs": [],
      "source": [
        "import nltk\n",
        "from tqdm import tqdm\n",
        "from nltk.sentiment.vader import SentimentIntensityAnalyzer\n",
        "def generate_sentiment_scores(data):\n",
        "    sid = SentimentIntensityAnalyzer()\n",
        "    neg=[]\n",
        "    pos=[]\n",
        "    neu=[]\n",
        "    comp=[]\n",
        "    for sentence in tqdm(data['parent_comment'].values): \n",
        "        sentence_sentiment_score = sid.polarity_scores(sentence)\n",
        "        comp.append(sentence_sentiment_score['compound'])\n",
        "        neg.append(sentence_sentiment_score['neg'])\n",
        "        pos.append(sentence_sentiment_score['pos'])\n",
        "        neu.append(sentence_sentiment_score['neu'])\n",
        "    return comp,neg,pos,neu"
      ]
    },
    {
      "cell_type": "code",
      "execution_count": null,
      "id": "0YNG6kBJ9Lt3",
      "metadata": {
        "colab": {
          "base_uri": "https://localhost:8080/"
        },
        "id": "0YNG6kBJ9Lt3",
        "outputId": "9f3e4ae7-195b-44a8-9423-125d68b63093"
      },
      "outputs": [
        {
          "name": "stderr",
          "output_type": "stream",
          "text": [
            "100%|██████████| 1010826/1010826 [04:23<00:00, 3832.90it/s]\n"
          ]
        }
      ],
      "source": [
        "data['compound'],data['negative'],data['positive'],data['neutral']=generate_sentiment_scores(data)"
      ]
    },
    {
      "cell_type": "code",
      "execution_count": null,
      "id": "xytZ-DUM9ng5",
      "metadata": {
        "id": "xytZ-DUM9ng5"
      },
      "outputs": [],
      "source": [
        "data['com_len']=data['comment'].apply(lambda x:len(x.split()))"
      ]
    },
    {
      "cell_type": "code",
      "execution_count": null,
      "id": "pQH7iiAd90XH",
      "metadata": {
        "id": "pQH7iiAd90XH"
      },
      "outputs": [],
      "source": [
        "data['parent_com_len']=data['parent_comment'].apply(lambda x:len(x.split()))"
      ]
    },
    {
      "cell_type": "code",
      "execution_count": null,
      "id": "1Lp2_GVmTUyf",
      "metadata": {
        "id": "1Lp2_GVmTUyf"
      },
      "outputs": [],
      "source": [
        "data['comment']=data['comment']+\" \"+data['author']+\" \"+data['subreddit']"
      ]
    },
    {
      "cell_type": "markdown",
      "id": "f5agCqVRYcvM",
      "metadata": {
        "id": "f5agCqVRYcvM"
      },
      "source": [
        ""
      ]
    },
    {
      "cell_type": "code",
      "execution_count": null,
      "id": "uGptC5k7YYkq",
      "metadata": {
        "colab": {
          "base_uri": "https://localhost:8080/"
        },
        "id": "uGptC5k7YYkq",
        "outputId": "ab19fc2b-9585-4ac3-d190-662c7874a55d"
      },
      "outputs": [
        {
          "data": {
            "text/plain": [
              "(1010826, 2)"
            ]
          },
          "execution_count": 21,
          "metadata": {},
          "output_type": "execute_result"
        }
      ],
      "source": [
        "labels=tf.keras.utils.to_categorical(data['label'].values,num_classes=2)\n",
        "labels.shape"
      ]
    },
    {
      "cell_type": "code",
      "execution_count": null,
      "id": "0e968b68",
      "metadata": {
        "id": "0e968b68"
      },
      "outputs": [],
      "source": [
        "y=data['label']\n",
        "X=data.drop(['label','date','created_utc'],axis=1)"
      ]
    },
    {
      "cell_type": "code",
      "execution_count": null,
      "id": "2477ed82",
      "metadata": {
        "id": "2477ed82"
      },
      "outputs": [],
      "source": [
        "from sklearn.model_selection import train_test_split\n",
        "X_train,X_test,y_train,y_test=train_test_split(X,labels,test_size=0.3,random_state=42,stratify=labels)"
      ]
    },
    {
      "cell_type": "code",
      "execution_count": null,
      "id": "_Yr8Sp6QTljG",
      "metadata": {
        "id": "_Yr8Sp6QTljG"
      },
      "outputs": [],
      "source": [
        "def pad_text(text,tokenizer,max_len):\n",
        "    return pad_sequences(tokenizer.texts_to_sequences(text),maxlen=max_len,padding='post')"
      ]
    },
    {
      "cell_type": "code",
      "execution_count": null,
      "id": "GSqTXmvhTsnw",
      "metadata": {
        "id": "GSqTXmvhTsnw"
      },
      "outputs": [],
      "source": [
        "from tensorflow.keras.preprocessing.text import Tokenizer\n",
        "def text_padding(train,test,max_len):\n",
        "    token=Tokenizer()\n",
        "    token.fit_on_texts(train)\n",
        "    padded_train_text=pad_text(train,token,max_len)\n",
        "    padded_test_text=pad_text(test,token,max_len)\n",
        "    return padded_train_text,padded_test_text,token"
      ]
    },
    {
      "cell_type": "code",
      "execution_count": null,
      "id": "kHEDlj7BTw59",
      "metadata": {
        "colab": {
          "background_save": true
        },
        "id": "kHEDlj7BTw59"
      },
      "outputs": [],
      "source": [
        "comm_len=200\n",
        "train_com_pad,test_com_pad,token_com= text_padding(X_train['comment'],X_test['comment'],comm_len)"
      ]
    },
    {
      "cell_type": "code",
      "execution_count": null,
      "id": "cm6FNbSTUEkr",
      "metadata": {
        "colab": {
          "background_save": true
        },
        "id": "cm6FNbSTUEkr",
        "outputId": "1d7d6b24-f089-4c49-b57a-3e51424cc0d7"
      },
      "outputs": [
        {
          "name": "stdout",
          "output_type": "stream",
          "text": [
            "(707578, 200) (303248, 200)\n"
          ]
        }
      ],
      "source": [
        "print(train_com_pad.shape,test_com_pad.shape)"
      ]
    },
    {
      "cell_type": "code",
      "execution_count": null,
      "id": "LOzZ1pFbUQ4x",
      "metadata": {
        "id": "LOzZ1pFbUQ4x"
      },
      "outputs": [],
      "source": [
        "par_comm_len=200\n",
        "train_par_com_pad,test_par_com_pad,token_par= text_padding(X_train['parent_comment'],X_test['parent_comment'],par_comm_len)"
      ]
    },
    {
      "cell_type": "code",
      "execution_count": null,
      "id": "fhuS_ELwUfXr",
      "metadata": {
        "colab": {
          "base_uri": "https://localhost:8080/"
        },
        "id": "fhuS_ELwUfXr",
        "outputId": "dc621f7c-796d-41a6-88fc-a0e9adbac559"
      },
      "outputs": [
        {
          "name": "stdout",
          "output_type": "stream",
          "text": [
            "(707578, 200) (303248, 200)\n"
          ]
        }
      ],
      "source": [
        "print(train_par_com_pad.shape,test_par_com_pad.shape)"
      ]
    },
    {
      "cell_type": "code",
      "execution_count": null,
      "id": "aZqsaFH5pov5",
      "metadata": {
        "id": "aZqsaFH5pov5"
      },
      "outputs": [],
      "source": [
        "def generate_embedding_matrix(token):\n",
        "    embedding_path='/content/gdrive/MyDrive/Mercari/glove.6B.100d.txt'\n",
        "    embedding_dimension=100\n",
        "    embedding_index={}\n",
        "    with open(embedding_path,encoding=\"latin\") as f:\n",
        "         for line in f:\n",
        "             values=line.split()\n",
        "             word=values[0]\n",
        "             coefs=np.asarray(values[1:],dtype='float32')\n",
        "             embedding_index[word]=coefs\n",
        "    f.close()        \n",
        "    embedding_matrix=np.zeros((len(token.word_index)+1,embedding_dimension))\n",
        "    num_words_in_embedding = 0\n",
        "    for word, i in token.word_index.items():\n",
        "        embedding_vector = embedding_index.get(word)\n",
        "        if embedding_vector is not None:\n",
        "           num_words_in_embedding += 1\n",
        "        embedding_matrix[i] = embedding_vector\n",
        "        #print(\"embedding matrix shape\",embedding_matrix.shape)\n",
        "    return embedding_matrix"
      ]
    },
    {
      "cell_type": "code",
      "execution_count": null,
      "id": "82X-AB_mp9Yv",
      "metadata": {
        "colab": {
          "base_uri": "https://localhost:8080/"
        },
        "id": "82X-AB_mp9Yv",
        "outputId": "e332142b-aab6-410f-d1ef-c51d1591c838"
      },
      "outputs": [
        {
          "name": "stdout",
          "output_type": "stream",
          "text": [
            "(362500, 100) (189737, 100)\n"
          ]
        }
      ],
      "source": [
        "embedding_comm = generate_embedding_matrix(token_com)\n",
        "embedding_par = generate_embedding_matrix(token_par)\n",
        "print(embedding_comm.shape,embedding_par.shape)"
      ]
    },
    {
      "cell_type": "code",
      "execution_count": null,
      "id": "567f61bd",
      "metadata": {
        "colab": {
          "base_uri": "https://localhost:8080/"
        },
        "id": "567f61bd",
        "outputId": "2a9e9f86-cb55-4082-847c-d642e4e36f32"
      },
      "outputs": [
        {
          "name": "stdout",
          "output_type": "stream",
          "text": [
            "CPU times: user 16.9 ms, sys: 0 ns, total: 16.9 ms\n",
            "Wall time: 16.2 ms\n"
          ]
        }
      ],
      "source": [
        "%%time\n",
        "from sklearn.preprocessing import Normalizer\n",
        "trans = Normalizer()\n",
        "X_train_score=trans.fit_transform(X_train['score'].values.reshape(-1,1))\n",
        "X_test_score=trans.transform(X_test['score'].values.reshape(-1,1))"
      ]
    },
    {
      "cell_type": "code",
      "execution_count": null,
      "id": "3bf9e765",
      "metadata": {
        "colab": {
          "base_uri": "https://localhost:8080/"
        },
        "id": "3bf9e765",
        "outputId": "4c6c8474-5391-472e-cb7a-3b4bb4994bdd"
      },
      "outputs": [
        {
          "name": "stdout",
          "output_type": "stream",
          "text": [
            "CPU times: user 14.7 ms, sys: 2.01 ms, total: 16.7 ms\n",
            "Wall time: 17 ms\n"
          ]
        }
      ],
      "source": [
        "%%time\n",
        "trans = Normalizer()\n",
        "X_train_ups=trans.fit_transform(X_train['ups'].values.reshape(-1,1))\n",
        "X_test_ups=trans.transform(X_test['ups'].values.reshape(-1,1))"
      ]
    },
    {
      "cell_type": "code",
      "execution_count": null,
      "id": "246001b5",
      "metadata": {
        "colab": {
          "base_uri": "https://localhost:8080/"
        },
        "id": "246001b5",
        "outputId": "d649effc-896f-4828-a910-3cb987bafd00"
      },
      "outputs": [
        {
          "name": "stdout",
          "output_type": "stream",
          "text": [
            "CPU times: user 14.4 ms, sys: 1.99 ms, total: 16.4 ms\n",
            "Wall time: 18 ms\n"
          ]
        }
      ],
      "source": [
        "%%time\n",
        "trans = Normalizer()\n",
        "X_train_downs=trans.fit_transform(X_train['downs'].values.reshape(-1,1))\n",
        "X_test_downs=trans.transform(X_test['downs'].values.reshape(-1,1))"
      ]
    },
    {
      "cell_type": "code",
      "execution_count": null,
      "id": "8fSL8b95-U6W",
      "metadata": {
        "colab": {
          "base_uri": "https://localhost:8080/"
        },
        "id": "8fSL8b95-U6W",
        "outputId": "4b048efe-1313-4524-e9a7-8c14a5a4debc"
      },
      "outputs": [
        {
          "name": "stdout",
          "output_type": "stream",
          "text": [
            "CPU times: user 13.5 ms, sys: 7.01 ms, total: 20.5 ms\n",
            "Wall time: 23.2 ms\n"
          ]
        }
      ],
      "source": [
        "%%time\n",
        "trans = Normalizer()\n",
        "X_train_comp=trans.fit_transform(X_train['compound'].values.reshape(-1,1))\n",
        "X_test_comp=trans.transform(X_test['compound'].values.reshape(-1,1))"
      ]
    },
    {
      "cell_type": "code",
      "execution_count": null,
      "id": "2PrLRZ9-_VrM",
      "metadata": {
        "colab": {
          "base_uri": "https://localhost:8080/"
        },
        "id": "2PrLRZ9-_VrM",
        "outputId": "5ba32f13-1d08-4d87-88e9-3e697c0e7b02"
      },
      "outputs": [
        {
          "name": "stdout",
          "output_type": "stream",
          "text": [
            "CPU times: user 17.3 ms, sys: 4 ms, total: 21.3 ms\n",
            "Wall time: 22.2 ms\n"
          ]
        }
      ],
      "source": [
        "%%time\n",
        "trans = Normalizer()\n",
        "X_train_neg=trans.fit_transform(X_train['negative'].values.reshape(-1,1))\n",
        "X_test_neg=trans.transform(X_test['negative'].values.reshape(-1,1))"
      ]
    },
    {
      "cell_type": "code",
      "execution_count": null,
      "id": "Vno_GyMh_qf3",
      "metadata": {
        "colab": {
          "base_uri": "https://localhost:8080/"
        },
        "id": "Vno_GyMh_qf3",
        "outputId": "bb04503b-c849-459b-ccb7-8063cd0b806a"
      },
      "outputs": [
        {
          "name": "stdout",
          "output_type": "stream",
          "text": [
            "CPU times: user 20.4 ms, sys: 994 µs, total: 21.4 ms\n",
            "Wall time: 22.7 ms\n"
          ]
        }
      ],
      "source": [
        "%%time\n",
        "trans = Normalizer()\n",
        "X_train_pos=trans.fit_transform(X_train['positive'].values.reshape(-1,1))\n",
        "X_test_pos=trans.transform(X_test['positive'].values.reshape(-1,1))"
      ]
    },
    {
      "cell_type": "code",
      "execution_count": null,
      "id": "N-8eYj14_x-5",
      "metadata": {
        "colab": {
          "base_uri": "https://localhost:8080/"
        },
        "id": "N-8eYj14_x-5",
        "outputId": "94b3f1ad-58ae-4d01-f120-5a1c18191c3d"
      },
      "outputs": [
        {
          "name": "stdout",
          "output_type": "stream",
          "text": [
            "CPU times: user 14.7 ms, sys: 997 µs, total: 15.7 ms\n",
            "Wall time: 16 ms\n"
          ]
        }
      ],
      "source": [
        "%%time\n",
        "trans = Normalizer()\n",
        "X_train_neu=trans.fit_transform(X_train['neutral'].values.reshape(-1,1))\n",
        "X_test_neu=trans.transform(X_test['neutral'].values.reshape(-1,1))"
      ]
    },
    {
      "cell_type": "code",
      "execution_count": null,
      "id": "JIohW6CN_6v_",
      "metadata": {
        "colab": {
          "base_uri": "https://localhost:8080/"
        },
        "id": "JIohW6CN_6v_",
        "outputId": "8c2cecf6-17df-4a7b-e739-1c8e1f6b2016"
      },
      "outputs": [
        {
          "name": "stdout",
          "output_type": "stream",
          "text": [
            "CPU times: user 14.4 ms, sys: 38 µs, total: 14.4 ms\n",
            "Wall time: 15 ms\n"
          ]
        }
      ],
      "source": [
        "%%time\n",
        "trans = Normalizer()\n",
        "X_train_com_len=trans.fit_transform(X_train['com_len'].values.reshape(-1,1))\n",
        "X_test_com_len=trans.transform(X_test['com_len'].values.reshape(-1,1))"
      ]
    },
    {
      "cell_type": "code",
      "execution_count": null,
      "id": "GgcrfJxWAKqk",
      "metadata": {
        "colab": {
          "base_uri": "https://localhost:8080/"
        },
        "id": "GgcrfJxWAKqk",
        "outputId": "47cbb950-6743-4592-d4a1-65d49fa4e24f"
      },
      "outputs": [
        {
          "name": "stdout",
          "output_type": "stream",
          "text": [
            "CPU times: user 11.9 ms, sys: 3.02 ms, total: 14.9 ms\n",
            "Wall time: 19.8 ms\n"
          ]
        }
      ],
      "source": [
        "%%time\n",
        "trans = Normalizer()\n",
        "X_train_parent_com_len=trans.fit_transform(X_train['parent_com_len'].values.reshape(-1,1))\n",
        "X_test_parent_com_len=trans.transform(X_test['parent_com_len'].values.reshape(-1,1))"
      ]
    },
    {
      "cell_type": "code",
      "execution_count": null,
      "id": "hF3XgpXYBtOw",
      "metadata": {
        "id": "hF3XgpXYBtOw"
      },
      "outputs": [],
      "source": [
        "numerical_train=np.concatenate((X_train_score,X_train_ups,X_train_downs,X_train_comp,X_train_neu,X_train_neg,X_train_pos,X_train_com_len,X_train_parent_com_len),axis=1)\n",
        "numerical_test=np.concatenate((X_test_score,X_test_ups,X_test_downs,X_test_comp,X_test_neu,X_test_neg,X_test_pos,X_test_com_len,X_test_parent_com_len),axis=1)"
      ]
    },
    {
      "cell_type": "code",
      "execution_count": null,
      "id": "9Qo1odbhV53U",
      "metadata": {
        "colab": {
          "base_uri": "https://localhost:8080/"
        },
        "id": "9Qo1odbhV53U",
        "outputId": "874db363-56df-4422-dc12-b83d1da36972"
      },
      "outputs": [
        {
          "name": "stdout",
          "output_type": "stream",
          "text": [
            "(707578, 9) (303248, 9)\n"
          ]
        }
      ],
      "source": [
        "print(numerical_train.shape,numerical_test.shape)"
      ]
    },
    {
      "cell_type": "code",
      "execution_count": null,
      "id": "b27cl84CWK2O",
      "metadata": {
        "id": "b27cl84CWK2O"
      },
      "outputs": [],
      "source": [
        "X_train=[train_com_pad,train_par_com_pad,numerical_train]\n",
        "X_test=[test_com_pad,test_par_com_pad,numerical_test]"
      ]
    },
    {
      "cell_type": "code",
      "execution_count": null,
      "id": "Dw0d6FgHWbUJ",
      "metadata": {
        "id": "Dw0d6FgHWbUJ"
      },
      "outputs": [],
      "source": [
        "from tensorflow.keras.layers import concatenate\n",
        "def LSTM_Model(comm_len,token_com,par_comm_len,token_par):\n",
        "    drop_lstm = 0.25\n",
        "    drop_dense = 0.25\n",
        "    num_lstm=150\n",
        "    print('0____________')\n",
        "    input_text_1=Input(shape=(comm_len,), name='Comment')\n",
        "    sequence_input_1=Embedding(len(token_com.word_index) + 1,100,weights=[embedding_comm],input_length=comm_len,trainable=True,dtype=tf.float32)(input_text_1)\n",
        "    sequence_input_1=LSTM(num_lstm,dropout=drop_lstm,return_sequences=True,dtype=tf.float32)(sequence_input_1)\n",
        "    sequence_input_1=Flatten()(sequence_input_1)\n",
        "    print('1____________')\n",
        "    input_text_2=Input(shape=(par_comm_len,),name='parent_comment')\n",
        "    sequence_input_2=Embedding(len(token_par.word_index) + 1,100,weights=[embedding_par],input_length=par_comm_len,trainable=True,dtype=tf.float32)(input_text_2)\n",
        "    sequence_input_2=LSTM(num_lstm,dropout=drop_lstm,return_sequences=True,dtype=tf.float32)(sequence_input_2)\n",
        "    sequence_input_2=Flatten()(sequence_input_2)\n",
        "    \n",
        "    print('5____________')\n",
        "    input5 = Input(shape=(9,),name='Numerical')\n",
        "    flatten_6 = Dense(32,activation='relu',kernel_initializer=he_normal(),kernel_regularizer=l2(0.0001),dtype=tf.float32)(input5)\n",
        "    flatten_6 = Dense(16,activation='relu',kernel_initializer=he_normal(),kernel_regularizer=l2(0.0001),dtype=tf.float32)(flatten_6)\n",
        "    concat=concatenate([sequence_input_1,sequence_input_2,flatten_6],dtype=tf.float32)\n",
        "    print('6____________')\n",
        "    y = Dense(128,activation='relu',kernel_initializer=he_normal(),kernel_regularizer=l2(0.01))(concat)\n",
        "    y = Dense(64,activation='relu',kernel_initializer=he_normal(),kernel_regularizer=l2(0.01))(y)\n",
        "    y = Dense(32,activation='relu',kernel_initializer=he_normal(),kernel_regularizer=l2(0.01))(y)\n",
        "    print('7____________')\n",
        "    final_output=Dense(2,activation='softmax')(y)\n",
        "    print('8____________')\n",
        "    model= Model(inputs=[input_text_1,input_text_2,input5],outputs=final_output)\n",
        "    return model"
      ]
    },
    {
      "cell_type": "code",
      "execution_count": null,
      "id": "8PFoM3x2WoFR",
      "metadata": {
        "colab": {
          "base_uri": "https://localhost:8080/"
        },
        "id": "8PFoM3x2WoFR",
        "outputId": "d7581e8d-5f59-4438-f852-16e402ff2359"
      },
      "outputs": [
        {
          "name": "stdout",
          "output_type": "stream",
          "text": [
            "0____________\n",
            "1____________\n",
            "5____________\n",
            "6____________\n",
            "7____________\n",
            "8____________\n",
            "Model: \"model_4\"\n",
            "__________________________________________________________________________________________________\n",
            "Layer (type)                    Output Shape         Param #     Connected to                     \n",
            "==================================================================================================\n",
            "Comment (InputLayer)            [(None, 200)]        0                                            \n",
            "__________________________________________________________________________________________________\n",
            "parent_comment (InputLayer)     [(None, 200)]        0                                            \n",
            "__________________________________________________________________________________________________\n",
            "embedding_8 (Embedding)         (None, 200, 100)     36250000    Comment[0][0]                    \n",
            "__________________________________________________________________________________________________\n",
            "embedding_9 (Embedding)         (None, 200, 100)     18973700    parent_comment[0][0]             \n",
            "__________________________________________________________________________________________________\n",
            "Numerical (InputLayer)          [(None, 9)]          0                                            \n",
            "__________________________________________________________________________________________________\n",
            "lstm_8 (LSTM)                   (None, 200, 150)     150600      embedding_8[0][0]                \n",
            "__________________________________________________________________________________________________\n",
            "lstm_9 (LSTM)                   (None, 200, 150)     150600      embedding_9[0][0]                \n",
            "__________________________________________________________________________________________________\n",
            "dense_24 (Dense)                (None, 32)           320         Numerical[0][0]                  \n",
            "__________________________________________________________________________________________________\n",
            "flatten_8 (Flatten)             (None, 30000)        0           lstm_8[0][0]                     \n",
            "__________________________________________________________________________________________________\n",
            "flatten_9 (Flatten)             (None, 30000)        0           lstm_9[0][0]                     \n",
            "__________________________________________________________________________________________________\n",
            "dense_25 (Dense)                (None, 16)           528         dense_24[0][0]                   \n",
            "__________________________________________________________________________________________________\n",
            "concatenate_4 (Concatenate)     (None, 60016)        0           flatten_8[0][0]                  \n",
            "                                                                 flatten_9[0][0]                  \n",
            "                                                                 dense_25[0][0]                   \n",
            "__________________________________________________________________________________________________\n",
            "dense_26 (Dense)                (None, 128)          7682176     concatenate_4[0][0]              \n",
            "__________________________________________________________________________________________________\n",
            "dense_27 (Dense)                (None, 64)           8256        dense_26[0][0]                   \n",
            "__________________________________________________________________________________________________\n",
            "dense_28 (Dense)                (None, 32)           2080        dense_27[0][0]                   \n",
            "__________________________________________________________________________________________________\n",
            "dense_29 (Dense)                (None, 2)            66          dense_28[0][0]                   \n",
            "==================================================================================================\n",
            "Total params: 63,218,326\n",
            "Trainable params: 63,218,326\n",
            "Non-trainable params: 0\n",
            "__________________________________________________________________________________________________\n"
          ]
        }
      ],
      "source": [
        "model=LSTM_Model(comm_len,token_com,par_comm_len,token_par)\n",
        "model.summary()"
      ]
    },
    {
      "cell_type": "code",
      "execution_count": null,
      "id": "RwNdazCwXgLu",
      "metadata": {
        "colab": {
          "base_uri": "https://localhost:8080/",
          "height": 800
        },
        "id": "RwNdazCwXgLu",
        "outputId": "fefbaa8c-a543-4509-ae1b-198e140594fb"
      },
      "outputs": [
        {
          "data": {
            "image/png": "[encoded data removed]",
            "text/plain": [
              "<IPython.core.display.Image object>"
            ]
          },
          "execution_count": 50,
          "metadata": {},
          "output_type": "execute_result"
        }
      ],
      "source": [
        "tf.keras.utils.plot_model(\n",
        "    model, to_file='model.png', show_shapes=True, show_layer_names=True,\n",
        "    rankdir='TB')"
      ]
    },
    {
      "cell_type": "code",
      "execution_count": null,
      "id": "RpVAc8VvYQI6",
      "metadata": {
        "id": "RpVAc8VvYQI6"
      },
      "outputs": [],
      "source": [
        "from sklearn.metrics import roc_auc_score\n",
        "def auc1(y_true, y_pred):\n",
        "    if len(np.unique(y_true[:,1])) == 1:\n",
        "        return 0.5\n",
        "    else:\n",
        "        return roc_auc_score(y_true, y_pred)\n",
        "def auroc(y_true, y_pred):\n",
        "    return tf.py_function(auc1, (y_true, y_pred), tf.double)"
      ]
    },
    {
      "cell_type": "code",
      "execution_count": null,
      "id": "BkhUeurCY1cT",
      "metadata": {
        "id": "BkhUeurCY1cT"
      },
      "outputs": [],
      "source": [
        "import tensorflow as tf\n",
        "adam = tf.keras.optimizers.Adam(lr=0.0001)\n",
        "model.compile(optimizer=adam, loss='categorical_crossentropy',metrics=['accuracy'])"
      ]
    },
    {
      "cell_type": "code",
      "execution_count": null,
      "id": "oGnKtZf0Y4Rs",
      "metadata": {
        "id": "oGnKtZf0Y4Rs"
      },
      "outputs": [],
      "source": [
        "from tensorflow.keras.callbacks import *\n",
        "import os\n",
        "filepath=\"weights_1.best.hdf1\"\n",
        "checkpoint = ModelCheckpoint(filepath, monitor='val_accuracy', verbose=1, mode='max')\n",
        "earlystop = EarlyStopping(monitor = 'val_accuracy',  mode=\"max\",min_delta = 0, patience = 3,verbose = 1)\n",
        "reduce_lr = ReduceLROnPlateau(monitor = 'val_accuracy', factor = 0.25, patience = 2, verbose = 1)\n",
        "%reload_ext tensorboard\n",
        "import datetime\n",
        "logdir = os.path.join(\"logs_1\", datetime.datetime.now().strftime(\"%Y%m%d-%H%M%S\"))\n",
        "#tensorboard = tf.keras.callbacks.TensorBoard(logdir, histogram_freq=1)\n",
        "tensorboard = TensorBoard(log_dir=logdir, histogram_freq=0, write_graph=True, write_grads=False, write_images=False)\n",
        "callbacks = [checkpoint,reduce_lr,tensorboard,earlystop]"
      ]
    },
    {
      "cell_type": "code",
      "execution_count": null,
      "id": "2s3L_UrrY7MD",
      "metadata": {
        "colab": {
          "base_uri": "https://localhost:8080/"
        },
        "id": "2s3L_UrrY7MD",
        "outputId": "cfcabaf4-165e-4a1e-9d12-1dff2ccde09a"
      },
      "outputs": [
        {
          "name": "stdout",
          "output_type": "stream",
          "text": [
            "Epoch 1/50\n",
            " 114/1382 [=>............................] - ETA: 2:52 - loss: nan - accuracy: 0.5008"
          ]
        }
      ],
      "source": [
        "hitory=model.fit(x=X_train,y=y_train,epochs=50,batch_size=512,validation_data=(X_test, y_test),callbacks=callbacks)"
      ]
    },
    {
      "cell_type": "code",
      "execution_count": null,
      "id": "mxZ_i2Ihdh4l",
      "metadata": {
        "colab": {
          "base_uri": "https://localhost:8080/",
          "height": 227
        },
        "id": "mxZ_i2Ihdh4l",
        "outputId": "b7a37ca6-afc6-466e-d1f0-1a5ead6b7018"
      },
      "outputs": [
        {
          "data": {
            "image/png": "[encoded data removed]",
            "text/plain": [
              "<Figure size 2160x360 with 2 Axes>"
            ]
          },
          "metadata": {
            "needs_background": "light"
          },
          "output_type": "display_data"
        }
      ],
      "source": [
        "import matplotlib.pyplot as plt\n",
        "plt.figure(figsize=(30, 5))\n",
        "plt.subplot(121)\n",
        "plt.plot(hitory.history['auroc'])\n",
        "plt.plot(hitory.history['val_auroc'])\n",
        "plt.title('Model AUC_ROC')\n",
        "plt.ylabel('Auc-Roc')\n",
        "plt.xlabel('Epoch')\n",
        "plt.legend(['Train', 'Test'], loc='upper left')\n",
        "\n",
        "# Plot training & validation f1_score\n",
        "plt.subplot(122)\n",
        "plt.plot(hitory.history['accuracy'])\n",
        "plt.plot(hitory.history['val_accuracy'])\n",
        "plt.title('Model Accuracy')\n",
        "plt.ylabel('accuracy')\n",
        "plt.xlabel('Epoch')\n",
        "plt.legend(['Train', 'Test'], loc='upper left')\n",
        "plt.show()"
      ]
    },
    {
      "cell_type": "code",
      "execution_count": null,
      "id": "aKvNHATOXuTr",
      "metadata": {
        "id": "aKvNHATOXuTr"
      },
      "outputs": [],
      "source": [
        "from tensorflow.keras.layers import concatenate\n",
        "def LSTM_Model1(comm_len,token_com,par_comm_len,token_par):\n",
        "    drop_lstm = 0.25\n",
        "    drop_dense = 0.25\n",
        "    num_lstm=150\n",
        "    print('0____________')\n",
        "    input_text_1=Input(shape=(comm_len,), name='Comment', dtype='float32')\n",
        "    sequence_input_1=Embedding(len(token_com.word_index) + 1,100,input_length=comm_len,trainable=False,dtype=tf.float32)(input_text_1)\n",
        "    sequence_input_1=LSTM(num_lstm,dropout=drop_lstm,return_sequences=True,dtype=tf.float32)(sequence_input_1)\n",
        "    sequence_input_1=Flatten()(sequence_input_1)\n",
        "    print('1____________')\n",
        "    input_text_2=Input(shape=(par_comm_len,),name='parent_comment', dtype='float32')\n",
        "    sequence_input_2=Embedding(len(token_par.word_index) + 1,100,input_length=par_comm_len,trainable=False,dtype=tf.float32)(input_text_2)\n",
        "    sequence_input_2=LSTM(num_lstm,dropout=drop_lstm,return_sequences=True,dtype=tf.float32)(sequence_input_2)\n",
        "    sequence_input_2=Flatten()(sequence_input_2)\n",
        "    \n",
        "    print('5____________')\n",
        "    input5 = Input(shape=(9,),name='Numerical', dtype='float32')\n",
        "    flatten_6 = Dense(32,activation='relu',kernel_initializer=he_normal(),kernel_regularizer=l2(0.0001),dtype=tf.float32)(input5)\n",
        "    flatten_6 = Dense(16,activation='relu',kernel_initializer=he_normal(),kernel_regularizer=l2(0.0001),dtype=tf.float32)(flatten_6)\n",
        "    concat=concatenate([sequence_input_1,sequence_input_2,flatten_6],dtype=tf.float32)\n",
        "    print('6____________')\n",
        "    y = Dense(512,activation='relu',kernel_initializer=he_normal(),kernel_regularizer=l2(0.01))(concat)\n",
        "    y=Dropout(0.4)(y)\n",
        "    y = Dense(256,activation='relu',kernel_initializer=he_normal(),kernel_regularizer=l2(0.01))(y)\n",
        "    y=Dropout(0.4)(y)\n",
        "    y = Dense(64,activation='relu',kernel_initializer=he_normal(),kernel_regularizer=l2(0.01))(y)\n",
        "    print('7____________')\n",
        "    final_output=Dense(2,activation='softmax')(y)\n",
        "    print('8____________')\n",
        "    model= Model(inputs=[input_text_1,input_text_2,input5],outputs=final_output)\n",
        "    return model"
      ]
    },
    {
      "cell_type": "code",
      "execution_count": null,
      "id": "SFc2kB4mYEBW",
      "metadata": {
        "colab": {
          "base_uri": "https://localhost:8080/"
        },
        "id": "SFc2kB4mYEBW",
        "outputId": "859f69a4-1f17-4f1e-c060-d0eb1e5c4750"
      },
      "outputs": [
        {
          "name": "stdout",
          "output_type": "stream",
          "text": [
            "0____________\n",
            "1____________\n",
            "5____________\n",
            "6____________\n",
            "7____________\n",
            "8____________\n",
            "Model: \"model_1\"\n",
            "__________________________________________________________________________________________________\n",
            "Layer (type)                    Output Shape         Param #     Connected to                     \n",
            "==================================================================================================\n",
            "Comment (InputLayer)            [(None, 200)]        0                                            \n",
            "__________________________________________________________________________________________________\n",
            "parent_comment (InputLayer)     [(None, 200)]        0                                            \n",
            "__________________________________________________________________________________________________\n",
            "embedding_2 (Embedding)         (None, 200, 100)     36250000    Comment[0][0]                    \n",
            "__________________________________________________________________________________________________\n",
            "embedding_3 (Embedding)         (None, 200, 100)     18973700    parent_comment[0][0]             \n",
            "__________________________________________________________________________________________________\n",
            "Numerical (InputLayer)          [(None, 9)]          0                                            \n",
            "__________________________________________________________________________________________________\n",
            "lstm_2 (LSTM)                   (None, 200, 150)     150600      embedding_2[0][0]                \n",
            "__________________________________________________________________________________________________\n",
            "lstm_3 (LSTM)                   (None, 200, 150)     150600      embedding_3[0][0]                \n",
            "__________________________________________________________________________________________________\n",
            "dense_6 (Dense)                 (None, 32)           320         Numerical[0][0]                  \n",
            "__________________________________________________________________________________________________\n",
            "flatten_2 (Flatten)             (None, 30000)        0           lstm_2[0][0]                     \n",
            "__________________________________________________________________________________________________\n",
            "flatten_3 (Flatten)             (None, 30000)        0           lstm_3[0][0]                     \n",
            "__________________________________________________________________________________________________\n",
            "dense_7 (Dense)                 (None, 16)           528         dense_6[0][0]                    \n",
            "__________________________________________________________________________________________________\n",
            "concatenate_1 (Concatenate)     (None, 60016)        0           flatten_2[0][0]                  \n",
            "                                                                 flatten_3[0][0]                  \n",
            "                                                                 dense_7[0][0]                    \n",
            "__________________________________________________________________________________________________\n",
            "dense_8 (Dense)                 (None, 512)          30728704    concatenate_1[0][0]              \n",
            "__________________________________________________________________________________________________\n",
            "dropout (Dropout)               (None, 512)          0           dense_8[0][0]                    \n",
            "__________________________________________________________________________________________________\n",
            "dense_9 (Dense)                 (None, 256)          131328      dropout[0][0]                    \n",
            "__________________________________________________________________________________________________\n",
            "dropout_1 (Dropout)             (None, 256)          0           dense_9[0][0]                    \n",
            "__________________________________________________________________________________________________\n",
            "dense_10 (Dense)                (None, 64)           16448       dropout_1[0][0]                  \n",
            "__________________________________________________________________________________________________\n",
            "dense_11 (Dense)                (None, 2)            130         dense_10[0][0]                   \n",
            "==================================================================================================\n",
            "Total params: 86,402,358\n",
            "Trainable params: 31,178,658\n",
            "Non-trainable params: 55,223,700\n",
            "__________________________________________________________________________________________________\n"
          ]
        }
      ],
      "source": [
        "model1=LSTM_Model1(comm_len,token_com,par_comm_len,token_par)\n",
        "model1.summary()"
      ]
    },
    {
      "cell_type": "code",
      "execution_count": null,
      "id": "6aH3KhoWYGJ_",
      "metadata": {
        "colab": {
          "base_uri": "https://localhost:8080/",
          "height": 965
        },
        "id": "6aH3KhoWYGJ_",
        "outputId": "be8b840b-063d-46d6-fc71-7f2e41d63504"
      },
      "outputs": [
        {
          "data": {
            "image/png": "[encoded data removed]",
            "text/plain": [
              "<IPython.core.display.Image object>"
            ]
          },
          "execution_count": 54,
          "metadata": {},
          "output_type": "execute_result"
        }
      ],
      "source": [
        "tf.keras.utils.plot_model(\n",
        "    model1, to_file='model.png', show_shapes=True, show_layer_names=True,\n",
        "    rankdir='TB')"
      ]
    },
    {
      "cell_type": "code",
      "execution_count": null,
      "id": "GDbnspsQYPxn",
      "metadata": {
        "id": "GDbnspsQYPxn"
      },
      "outputs": [],
      "source": [
        "import tensorflow as tf\n",
        "adam = tf.keras.optimizers.Adam(lr=0.0001)\n",
        "model1.compile(optimizer=adam, loss='categorical_crossentropy',metrics=[auroc,'accuracy'])"
      ]
    },
    {
      "cell_type": "code",
      "execution_count": null,
      "id": "WG0HH1MgYUbt",
      "metadata": {
        "id": "WG0HH1MgYUbt"
      },
      "outputs": [],
      "source": [
        "from tensorflow.keras.callbacks import *\n",
        "import os\n",
        "filepath=\"weights_2.best.hdf1\"\n",
        "checkpoint = ModelCheckpoint(filepath, monitor='val_accuracy', verbose=1, mode='max')\n",
        "earlystop = EarlyStopping(monitor = 'val_accuracy',  mode=\"max\",min_delta = 0, patience = 3,verbose = 1)\n",
        "reduce_lr = ReduceLROnPlateau(monitor = 'val_accuracy', factor = 0.25, patience = 2, verbose = 1)\n",
        "%reload_ext tensorboard\n",
        "import datetime\n",
        "logdir = os.path.join(\"logs_2\", datetime.datetime.now().strftime(\"%Y%m%d-%H%M%S\"))\n",
        "#tensorboard = tf.keras.callbacks.TensorBoard(logdir, histogram_freq=1)\n",
        "tensorboard = TensorBoard(log_dir=logdir, histogram_freq=0, write_graph=True, write_grads=False, write_images=False)\n",
        "callbacks = [checkpoint,reduce_lr,tensorboard,earlystop]"
      ]
    },
    {
      "cell_type": "code",
      "execution_count": null,
      "id": "tR7iMkN7YaIw",
      "metadata": {
        "colab": {
          "base_uri": "https://localhost:8080/",
          "height": 1000
        },
        "id": "tR7iMkN7YaIw",
        "outputId": "8c9f53df-5d40-4e03-a167-df0cd73ef453"
      },
      "outputs": [
        {
          "metadata": {
            "tags": null
          },
          "name": "stdout",
          "output_type": "stream",
          "text": [
            "Epoch 1/50\n",
            "691/691 [==============================] - 220s 313ms/step - loss: 4.2409 - auroc: 0.6209 - accuracy: 0.5847 - val_loss: 1.8162 - val_auroc: 0.6678 - val_accuracy: 0.6163\n",
            "\n",
            "Epoch 00001: saving model to weights_2.best.hdf1\n"
          ]
        },
        {
          "metadata": {
            "tags": null
          },
          "name": "stderr",
          "output_type": "stream",
          "text": [
            "WARNING:absl:Function `_wrapped_model` contains input name(s) Comment, Numerical with unsupported characters which will be renamed to comment, numerical in the SavedModel.\n",
            "WARNING:absl:Found untraced functions such as lstm_cell_2_layer_call_fn, lstm_cell_2_layer_call_and_return_conditional_losses, lstm_cell_3_layer_call_fn, lstm_cell_3_layer_call_and_return_conditional_losses, lstm_cell_2_layer_call_fn while saving (showing 5 of 10). These functions will not be directly callable after loading.\n"
          ]
        },
        {
          "metadata": {
            "tags": null
          },
          "name": "stdout",
          "output_type": "stream",
          "text": [
            "INFO:tensorflow:Assets written to: weights_2.best.hdf1/assets\n"
          ]
        },
        {
          "metadata": {
            "tags": null
          },
          "name": "stderr",
          "output_type": "stream",
          "text": [
            "INFO:tensorflow:Assets written to: weights_2.best.hdf1/assets\n"
          ]
        },
        {
          "metadata": {
            "tags": null
          },
          "name": "stdout",
          "output_type": "stream",
          "text": [
            "Epoch 2/50\n",
            "691/691 [==============================] - 222s 322ms/step - loss: 1.1984 - auroc: 0.6606 - accuracy: 0.6141 - val_loss: 0.8372 - val_auroc: 0.6770 - val_accuracy: 0.6238\n",
            "\n",
            "Epoch 00002: saving model to weights_2.best.hdf1\n"
          ]
        },
        {
          "metadata": {
            "tags": null
          },
          "name": "stderr",
          "output_type": "stream",
          "text": [
            "WARNING:absl:Function `_wrapped_model` contains input name(s) Comment, Numerical with unsupported characters which will be renamed to comment, numerical in the SavedModel.\n",
            "WARNING:absl:Found untraced functions such as lstm_cell_2_layer_call_fn, lstm_cell_2_layer_call_and_return_conditional_losses, lstm_cell_3_layer_call_fn, lstm_cell_3_layer_call_and_return_conditional_losses, lstm_cell_2_layer_call_fn while saving (showing 5 of 10). These functions will not be directly callable after loading.\n"
          ]
        },
        {
          "metadata": {
            "tags": null
          },
          "name": "stdout",
          "output_type": "stream",
          "text": [
            "INFO:tensorflow:Assets written to: weights_2.best.hdf1/assets\n"
          ]
        },
        {
          "metadata": {
            "tags": null
          },
          "name": "stderr",
          "output_type": "stream",
          "text": [
            "INFO:tensorflow:Assets written to: weights_2.best.hdf1/assets\n"
          ]
        },
        {
          "metadata": {
            "tags": null
          },
          "name": "stdout",
          "output_type": "stream",
          "text": [
            "Epoch 3/50\n",
            "691/691 [==============================] - 207s 300ms/step - loss: 0.7404 - auroc: 0.6670 - accuracy: 0.6179 - val_loss: 0.6786 - val_auroc: 0.6835 - val_accuracy: 0.6290\n",
            "\n",
            "Epoch 00003: saving model to weights_2.best.hdf1\n"
          ]
        },
        {
          "metadata": {
            "tags": null
          },
          "name": "stderr",
          "output_type": "stream",
          "text": [
            "WARNING:absl:Function `_wrapped_model` contains input name(s) Comment, Numerical with unsupported characters which will be renamed to comment, numerical in the SavedModel.\n",
            "WARNING:absl:Found untraced functions such as lstm_cell_2_layer_call_fn, lstm_cell_2_layer_call_and_return_conditional_losses, lstm_cell_3_layer_call_fn, lstm_cell_3_layer_call_and_return_conditional_losses, lstm_cell_2_layer_call_fn while saving (showing 5 of 10). These functions will not be directly callable after loading.\n"
          ]
        },
        {
          "metadata": {
            "tags": null
          },
          "name": "stdout",
          "output_type": "stream",
          "text": [
            "INFO:tensorflow:Assets written to: weights_2.best.hdf1/assets\n"
          ]
        },
        {
          "metadata": {
            "tags": null
          },
          "name": "stderr",
          "output_type": "stream",
          "text": [
            "INFO:tensorflow:Assets written to: weights_2.best.hdf1/assets\n"
          ]
        },
        {
          "metadata": {
            "tags": null
          },
          "name": "stdout",
          "output_type": "stream",
          "text": [
            "Epoch 4/50\n",
            "691/691 [==============================] - 224s 324ms/step - loss: 0.6685 - auroc: 0.6726 - accuracy: 0.6214 - val_loss: 0.6552 - val_auroc: 0.6859 - val_accuracy: 0.6320\n",
            "\n",
            "Epoch 00004: saving model to weights_2.best.hdf1\n"
          ]
        },
        {
          "metadata": {
            "tags": null
          },
          "name": "stderr",
          "output_type": "stream",
          "text": [
            "WARNING:absl:Function `_wrapped_model` contains input name(s) Comment, Numerical with unsupported characters which will be renamed to comment, numerical in the SavedModel.\n",
            "WARNING:absl:Found untraced functions such as lstm_cell_2_layer_call_fn, lstm_cell_2_layer_call_and_return_conditional_losses, lstm_cell_3_layer_call_fn, lstm_cell_3_layer_call_and_return_conditional_losses, lstm_cell_2_layer_call_fn while saving (showing 5 of 10). These functions will not be directly callable after loading.\n"
          ]
        },
        {
          "metadata": {
            "tags": null
          },
          "name": "stdout",
          "output_type": "stream",
          "text": [
            "INFO:tensorflow:Assets written to: weights_2.best.hdf1/assets\n"
          ]
        },
        {
          "metadata": {
            "tags": null
          },
          "name": "stderr",
          "output_type": "stream",
          "text": [
            "INFO:tensorflow:Assets written to: weights_2.best.hdf1/assets\n"
          ]
        },
        {
          "metadata": {
            "tags": null
          },
          "name": "stdout",
          "output_type": "stream",
          "text": [
            "Epoch 5/50\n",
            "691/691 [==============================] - 223s 323ms/step - loss: 0.6572 - auroc: 0.6764 - accuracy: 0.6236 - val_loss: 0.6498 - val_auroc: 0.6880 - val_accuracy: 0.6306\n",
            "\n",
            "Epoch 00005: saving model to weights_2.best.hdf1\n"
          ]
        },
        {
          "metadata": {
            "tags": null
          },
          "name": "stderr",
          "output_type": "stream",
          "text": [
            "WARNING:absl:Function `_wrapped_model` contains input name(s) Comment, Numerical with unsupported characters which will be renamed to comment, numerical in the SavedModel.\n",
            "WARNING:absl:Found untraced functions such as lstm_cell_2_layer_call_fn, lstm_cell_2_layer_call_and_return_conditional_losses, lstm_cell_3_layer_call_fn, lstm_cell_3_layer_call_and_return_conditional_losses, lstm_cell_2_layer_call_fn while saving (showing 5 of 10). These functions will not be directly callable after loading.\n"
          ]
        },
        {
          "metadata": {
            "tags": null
          },
          "name": "stdout",
          "output_type": "stream",
          "text": [
            "INFO:tensorflow:Assets written to: weights_2.best.hdf1/assets\n"
          ]
        },
        {
          "metadata": {
            "tags": null
          },
          "name": "stderr",
          "output_type": "stream",
          "text": [
            "INFO:tensorflow:Assets written to: weights_2.best.hdf1/assets\n"
          ]
        },
        {
          "metadata": {
            "tags": null
          },
          "name": "stdout",
          "output_type": "stream",
          "text": [
            "Epoch 6/50\n",
            "691/691 [==============================] - 207s 300ms/step - loss: 0.6536 - auroc: 0.6795 - accuracy: 0.6258 - val_loss: 0.6454 - val_auroc: 0.6906 - val_accuracy: 0.6360\n",
            "\n",
            "Epoch 00006: saving model to weights_2.best.hdf1\n"
          ]
        },
        {
          "metadata": {
            "tags": null
          },
          "name": "stderr",
          "output_type": "stream",
          "text": [
            "WARNING:absl:Function `_wrapped_model` contains input name(s) Comment, Numerical with unsupported characters which will be renamed to comment, numerical in the SavedModel.\n",
            "WARNING:absl:Found untraced functions such as lstm_cell_2_layer_call_fn, lstm_cell_2_layer_call_and_return_conditional_losses, lstm_cell_3_layer_call_fn, lstm_cell_3_layer_call_and_return_conditional_losses, lstm_cell_2_layer_call_fn while saving (showing 5 of 10). These functions will not be directly callable after loading.\n"
          ]
        },
        {
          "metadata": {
            "tags": null
          },
          "name": "stdout",
          "output_type": "stream",
          "text": [
            "INFO:tensorflow:Assets written to: weights_2.best.hdf1/assets\n"
          ]
        },
        {
          "metadata": {
            "tags": null
          },
          "name": "stderr",
          "output_type": "stream",
          "text": [
            "INFO:tensorflow:Assets written to: weights_2.best.hdf1/assets\n"
          ]
        },
        {
          "metadata": {
            "tags": null
          },
          "name": "stdout",
          "output_type": "stream",
          "text": [
            "Epoch 7/50\n",
            "691/691 [==============================] - 224s 324ms/step - loss: 0.6509 - auroc: 0.6823 - accuracy: 0.6276 - val_loss: 0.6461 - val_auroc: 0.6944 - val_accuracy: 0.6385\n",
            "\n",
            "Epoch 00007: saving model to weights_2.best.hdf1\n"
          ]
        },
        {
          "metadata": {
            "tags": null
          },
          "name": "stderr",
          "output_type": "stream",
          "text": [
            "WARNING:absl:Function `_wrapped_model` contains input name(s) Comment, Numerical with unsupported characters which will be renamed to comment, numerical in the SavedModel.\n",
            "WARNING:absl:Found untraced functions such as lstm_cell_2_layer_call_fn, lstm_cell_2_layer_call_and_return_conditional_losses, lstm_cell_3_layer_call_fn, lstm_cell_3_layer_call_and_return_conditional_losses, lstm_cell_2_layer_call_fn while saving (showing 5 of 10). These functions will not be directly callable after loading.\n"
          ]
        },
        {
          "metadata": {
            "tags": null
          },
          "name": "stdout",
          "output_type": "stream",
          "text": [
            "INFO:tensorflow:Assets written to: weights_2.best.hdf1/assets\n"
          ]
        },
        {
          "metadata": {
            "tags": null
          },
          "name": "stderr",
          "output_type": "stream",
          "text": [
            "INFO:tensorflow:Assets written to: weights_2.best.hdf1/assets\n"
          ]
        },
        {
          "name": "stdout",
          "output_type": "stream",
          "text": [
            "Epoch 8/50\n",
            "691/691 [==============================] - 223s 323ms/step - loss: 0.6488 - auroc: 0.6848 - accuracy: 0.6300 - val_loss: 0.6430 - val_auroc: 0.6962 - val_accuracy: 0.6393\n",
            "\n",
            "Epoch 00008: saving model to weights_2.best.hdf1\n"
          ]
        },
        {
          "name": "stderr",
          "output_type": "stream",
          "text": [
            "WARNING:absl:Function `_wrapped_model` contains input name(s) Comment, Numerical with unsupported characters which will be renamed to comment, numerical in the SavedModel.\n",
            "WARNING:absl:Found untraced functions such as lstm_cell_2_layer_call_fn, lstm_cell_2_layer_call_and_return_conditional_losses, lstm_cell_3_layer_call_fn, lstm_cell_3_layer_call_and_return_conditional_losses, lstm_cell_2_layer_call_fn while saving (showing 5 of 10). These functions will not be directly callable after loading.\n"
          ]
        },
        {
          "name": "stdout",
          "output_type": "stream",
          "text": [
            "INFO:tensorflow:Assets written to: weights_2.best.hdf1/assets\n"
          ]
        },
        {
          "name": "stderr",
          "output_type": "stream",
          "text": [
            "INFO:tensorflow:Assets written to: weights_2.best.hdf1/assets\n"
          ]
        },
        {
          "name": "stdout",
          "output_type": "stream",
          "text": [
            "Epoch 9/50\n",
            "691/691 [==============================] - 223s 323ms/step - loss: 0.6453 - auroc: 0.6891 - accuracy: 0.6334 - val_loss: 0.6389 - val_auroc: 0.7002 - val_accuracy: 0.6425\n",
            "\n",
            "Epoch 00009: saving model to weights_2.best.hdf1\n"
          ]
        },
        {
          "name": "stderr",
          "output_type": "stream",
          "text": [
            "WARNING:absl:Function `_wrapped_model` contains input name(s) Comment, Numerical with unsupported characters which will be renamed to comment, numerical in the SavedModel.\n",
            "WARNING:absl:Found untraced functions such as lstm_cell_2_layer_call_fn, lstm_cell_2_layer_call_and_return_conditional_losses, lstm_cell_3_layer_call_fn, lstm_cell_3_layer_call_and_return_conditional_losses, lstm_cell_2_layer_call_fn while saving (showing 5 of 10). These functions will not be directly callable after loading.\n"
          ]
        },
        {
          "name": "stdout",
          "output_type": "stream",
          "text": [
            "INFO:tensorflow:Assets written to: weights_2.best.hdf1/assets\n"
          ]
        },
        {
          "name": "stderr",
          "output_type": "stream",
          "text": [
            "INFO:tensorflow:Assets written to: weights_2.best.hdf1/assets\n"
          ]
        },
        {
          "name": "stdout",
          "output_type": "stream",
          "text": [
            "Epoch 10/50\n",
            "691/691 [==============================] - 223s 323ms/step - loss: 0.6417 - auroc: 0.6946 - accuracy: 0.6375 - val_loss: 0.6331 - val_auroc: 0.7066 - val_accuracy: 0.6473\n",
            "\n",
            "Epoch 00010: saving model to weights_2.best.hdf1\n"
          ]
        },
        {
          "name": "stderr",
          "output_type": "stream",
          "text": [
            "WARNING:absl:Function `_wrapped_model` contains input name(s) Comment, Numerical with unsupported characters which will be renamed to comment, numerical in the SavedModel.\n",
            "WARNING:absl:Found untraced functions such as lstm_cell_2_layer_call_fn, lstm_cell_2_layer_call_and_return_conditional_losses, lstm_cell_3_layer_call_fn, lstm_cell_3_layer_call_and_return_conditional_losses, lstm_cell_2_layer_call_fn while saving (showing 5 of 10). These functions will not be directly callable after loading.\n"
          ]
        },
        {
          "name": "stdout",
          "output_type": "stream",
          "text": [
            "INFO:tensorflow:Assets written to: weights_2.best.hdf1/assets\n"
          ]
        },
        {
          "name": "stderr",
          "output_type": "stream",
          "text": [
            "INFO:tensorflow:Assets written to: weights_2.best.hdf1/assets\n"
          ]
        },
        {
          "name": "stdout",
          "output_type": "stream",
          "text": [
            "Epoch 11/50\n",
            "691/691 [==============================] - 223s 323ms/step - loss: 0.6375 - auroc: 0.7002 - accuracy: 0.6416 - val_loss: 0.6343 - val_auroc: 0.7099 - val_accuracy: 0.6433\n",
            "\n",
            "Epoch 00011: saving model to weights_2.best.hdf1\n"
          ]
        },
        {
          "name": "stderr",
          "output_type": "stream",
          "text": [
            "WARNING:absl:Function `_wrapped_model` contains input name(s) Comment, Numerical with unsupported characters which will be renamed to comment, numerical in the SavedModel.\n",
            "WARNING:absl:Found untraced functions such as lstm_cell_2_layer_call_fn, lstm_cell_2_layer_call_and_return_conditional_losses, lstm_cell_3_layer_call_fn, lstm_cell_3_layer_call_and_return_conditional_losses, lstm_cell_2_layer_call_fn while saving (showing 5 of 10). These functions will not be directly callable after loading.\n"
          ]
        },
        {
          "name": "stdout",
          "output_type": "stream",
          "text": [
            "INFO:tensorflow:Assets written to: weights_2.best.hdf1/assets\n"
          ]
        },
        {
          "name": "stderr",
          "output_type": "stream",
          "text": [
            "INFO:tensorflow:Assets written to: weights_2.best.hdf1/assets\n"
          ]
        },
        {
          "name": "stdout",
          "output_type": "stream",
          "text": [
            "Epoch 12/50\n",
            "691/691 [==============================] - 223s 323ms/step - loss: 0.6343 - auroc: 0.7046 - accuracy: 0.6452 - val_loss: 0.6325 - val_auroc: 0.7100 - val_accuracy: 0.6472\n",
            "\n",
            "Epoch 00012: saving model to weights_2.best.hdf1\n"
          ]
        },
        {
          "name": "stderr",
          "output_type": "stream",
          "text": [
            "WARNING:absl:Function `_wrapped_model` contains input name(s) Comment, Numerical with unsupported characters which will be renamed to comment, numerical in the SavedModel.\n",
            "WARNING:absl:Found untraced functions such as lstm_cell_2_layer_call_fn, lstm_cell_2_layer_call_and_return_conditional_losses, lstm_cell_3_layer_call_fn, lstm_cell_3_layer_call_and_return_conditional_losses, lstm_cell_2_layer_call_fn while saving (showing 5 of 10). These functions will not be directly callable after loading.\n"
          ]
        },
        {
          "name": "stdout",
          "output_type": "stream",
          "text": [
            "INFO:tensorflow:Assets written to: weights_2.best.hdf1/assets\n"
          ]
        },
        {
          "name": "stderr",
          "output_type": "stream",
          "text": [
            "INFO:tensorflow:Assets written to: weights_2.best.hdf1/assets\n"
          ]
        },
        {
          "name": "stdout",
          "output_type": "stream",
          "text": [
            "\n",
            "Epoch 00012: ReduceLROnPlateau reducing learning rate to 2.499999936844688e-05.\n",
            "Epoch 13/50\n",
            "691/691 [==============================] - 223s 323ms/step - loss: 0.6275 - auroc: 0.7106 - accuracy: 0.6517 - val_loss: 0.6228 - val_auroc: 0.7175 - val_accuracy: 0.6573\n",
            "\n",
            "Epoch 00013: saving model to weights_2.best.hdf1\n"
          ]
        },
        {
          "name": "stderr",
          "output_type": "stream",
          "text": [
            "WARNING:absl:Function `_wrapped_model` contains input name(s) Comment, Numerical with unsupported characters which will be renamed to comment, numerical in the SavedModel.\n",
            "WARNING:absl:Found untraced functions such as lstm_cell_2_layer_call_fn, lstm_cell_2_layer_call_and_return_conditional_losses, lstm_cell_3_layer_call_fn, lstm_cell_3_layer_call_and_return_conditional_losses, lstm_cell_2_layer_call_fn while saving (showing 5 of 10). These functions will not be directly callable after loading.\n"
          ]
        },
        {
          "name": "stdout",
          "output_type": "stream",
          "text": [
            "INFO:tensorflow:Assets written to: weights_2.best.hdf1/assets\n"
          ]
        },
        {
          "name": "stderr",
          "output_type": "stream",
          "text": [
            "INFO:tensorflow:Assets written to: weights_2.best.hdf1/assets\n"
          ]
        },
        {
          "name": "stdout",
          "output_type": "stream",
          "text": [
            "Epoch 14/50\n",
            "691/691 [==============================] - 223s 323ms/step - loss: 0.6259 - auroc: 0.7123 - accuracy: 0.6531 - val_loss: 0.6216 - val_auroc: 0.7193 - val_accuracy: 0.6575\n",
            "\n",
            "Epoch 00014: saving model to weights_2.best.hdf1\n"
          ]
        },
        {
          "name": "stderr",
          "output_type": "stream",
          "text": [
            "WARNING:absl:Function `_wrapped_model` contains input name(s) Comment, Numerical with unsupported characters which will be renamed to comment, numerical in the SavedModel.\n",
            "WARNING:absl:Found untraced functions such as lstm_cell_2_layer_call_fn, lstm_cell_2_layer_call_and_return_conditional_losses, lstm_cell_3_layer_call_fn, lstm_cell_3_layer_call_and_return_conditional_losses, lstm_cell_2_layer_call_fn while saving (showing 5 of 10). These functions will not be directly callable after loading.\n"
          ]
        },
        {
          "name": "stdout",
          "output_type": "stream",
          "text": [
            "INFO:tensorflow:Assets written to: weights_2.best.hdf1/assets\n"
          ]
        },
        {
          "name": "stderr",
          "output_type": "stream",
          "text": [
            "INFO:tensorflow:Assets written to: weights_2.best.hdf1/assets\n"
          ]
        },
        {
          "name": "stdout",
          "output_type": "stream",
          "text": [
            "Epoch 15/50\n",
            "691/691 [==============================] - 223s 323ms/step - loss: 0.6254 - auroc: 0.7133 - accuracy: 0.6533 - val_loss: 0.6197 - val_auroc: 0.7210 - val_accuracy: 0.6606\n",
            "\n",
            "Epoch 00015: saving model to weights_2.best.hdf1\n"
          ]
        },
        {
          "name": "stderr",
          "output_type": "stream",
          "text": [
            "WARNING:absl:Function `_wrapped_model` contains input name(s) Comment, Numerical with unsupported characters which will be renamed to comment, numerical in the SavedModel.\n",
            "WARNING:absl:Found untraced functions such as lstm_cell_2_layer_call_fn, lstm_cell_2_layer_call_and_return_conditional_losses, lstm_cell_3_layer_call_fn, lstm_cell_3_layer_call_and_return_conditional_losses, lstm_cell_2_layer_call_fn while saving (showing 5 of 10). These functions will not be directly callable after loading.\n"
          ]
        },
        {
          "name": "stdout",
          "output_type": "stream",
          "text": [
            "INFO:tensorflow:Assets written to: weights_2.best.hdf1/assets\n"
          ]
        },
        {
          "name": "stderr",
          "output_type": "stream",
          "text": [
            "INFO:tensorflow:Assets written to: weights_2.best.hdf1/assets\n"
          ]
        },
        {
          "name": "stdout",
          "output_type": "stream",
          "text": [
            "Epoch 16/50\n",
            "691/691 [==============================] - 223s 323ms/step - loss: 0.6245 - auroc: 0.7142 - accuracy: 0.6544 - val_loss: 0.6199 - val_auroc: 0.7215 - val_accuracy: 0.6584\n",
            "\n",
            "Epoch 00016: saving model to weights_2.best.hdf1\n"
          ]
        },
        {
          "name": "stderr",
          "output_type": "stream",
          "text": [
            "WARNING:absl:Function `_wrapped_model` contains input name(s) Comment, Numerical with unsupported characters which will be renamed to comment, numerical in the SavedModel.\n",
            "WARNING:absl:Found untraced functions such as lstm_cell_2_layer_call_fn, lstm_cell_2_layer_call_and_return_conditional_losses, lstm_cell_3_layer_call_fn, lstm_cell_3_layer_call_and_return_conditional_losses, lstm_cell_2_layer_call_fn while saving (showing 5 of 10). These functions will not be directly callable after loading.\n"
          ]
        },
        {
          "name": "stdout",
          "output_type": "stream",
          "text": [
            "INFO:tensorflow:Assets written to: weights_2.best.hdf1/assets\n"
          ]
        },
        {
          "name": "stderr",
          "output_type": "stream",
          "text": [
            "INFO:tensorflow:Assets written to: weights_2.best.hdf1/assets\n"
          ]
        },
        {
          "name": "stdout",
          "output_type": "stream",
          "text": [
            "Epoch 17/50\n",
            "691/691 [==============================] - 223s 323ms/step - loss: 0.6234 - auroc: 0.7154 - accuracy: 0.6556 - val_loss: 0.6189 - val_auroc: 0.7221 - val_accuracy: 0.6607\n",
            "\n",
            "Epoch 00017: saving model to weights_2.best.hdf1\n"
          ]
        },
        {
          "name": "stderr",
          "output_type": "stream",
          "text": [
            "WARNING:absl:Function `_wrapped_model` contains input name(s) Comment, Numerical with unsupported characters which will be renamed to comment, numerical in the SavedModel.\n",
            "WARNING:absl:Found untraced functions such as lstm_cell_2_layer_call_fn, lstm_cell_2_layer_call_and_return_conditional_losses, lstm_cell_3_layer_call_fn, lstm_cell_3_layer_call_and_return_conditional_losses, lstm_cell_2_layer_call_fn while saving (showing 5 of 10). These functions will not be directly callable after loading.\n"
          ]
        },
        {
          "name": "stdout",
          "output_type": "stream",
          "text": [
            "INFO:tensorflow:Assets written to: weights_2.best.hdf1/assets\n"
          ]
        },
        {
          "name": "stderr",
          "output_type": "stream",
          "text": [
            "INFO:tensorflow:Assets written to: weights_2.best.hdf1/assets\n"
          ]
        },
        {
          "name": "stdout",
          "output_type": "stream",
          "text": [
            "Epoch 18/50\n",
            "691/691 [==============================] - 223s 323ms/step - loss: 0.6233 - auroc: 0.7159 - accuracy: 0.6556 - val_loss: 0.6180 - val_auroc: 0.7227 - val_accuracy: 0.6618\n",
            "\n",
            "Epoch 00018: saving model to weights_2.best.hdf1\n"
          ]
        },
        {
          "name": "stderr",
          "output_type": "stream",
          "text": [
            "WARNING:absl:Function `_wrapped_model` contains input name(s) Comment, Numerical with unsupported characters which will be renamed to comment, numerical in the SavedModel.\n",
            "WARNING:absl:Found untraced functions such as lstm_cell_2_layer_call_fn, lstm_cell_2_layer_call_and_return_conditional_losses, lstm_cell_3_layer_call_fn, lstm_cell_3_layer_call_and_return_conditional_losses, lstm_cell_2_layer_call_fn while saving (showing 5 of 10). These functions will not be directly callable after loading.\n"
          ]
        },
        {
          "name": "stdout",
          "output_type": "stream",
          "text": [
            "INFO:tensorflow:Assets written to: weights_2.best.hdf1/assets\n"
          ]
        },
        {
          "name": "stderr",
          "output_type": "stream",
          "text": [
            "INFO:tensorflow:Assets written to: weights_2.best.hdf1/assets\n"
          ]
        },
        {
          "name": "stdout",
          "output_type": "stream",
          "text": [
            "Epoch 19/50\n",
            "691/691 [==============================] - 207s 300ms/step - loss: 0.6222 - auroc: 0.7170 - accuracy: 0.6570 - val_loss: 0.6202 - val_auroc: 0.7216 - val_accuracy: 0.6588\n",
            "\n",
            "Epoch 00019: saving model to weights_2.best.hdf1\n"
          ]
        },
        {
          "name": "stderr",
          "output_type": "stream",
          "text": [
            "WARNING:absl:Function `_wrapped_model` contains input name(s) Comment, Numerical with unsupported characters which will be renamed to comment, numerical in the SavedModel.\n",
            "WARNING:absl:Found untraced functions such as lstm_cell_2_layer_call_fn, lstm_cell_2_layer_call_and_return_conditional_losses, lstm_cell_3_layer_call_fn, lstm_cell_3_layer_call_and_return_conditional_losses, lstm_cell_2_layer_call_fn while saving (showing 5 of 10). These functions will not be directly callable after loading.\n"
          ]
        },
        {
          "name": "stdout",
          "output_type": "stream",
          "text": [
            "INFO:tensorflow:Assets written to: weights_2.best.hdf1/assets\n"
          ]
        },
        {
          "name": "stderr",
          "output_type": "stream",
          "text": [
            "INFO:tensorflow:Assets written to: weights_2.best.hdf1/assets\n"
          ]
        },
        {
          "name": "stdout",
          "output_type": "stream",
          "text": [
            "Epoch 20/50\n",
            "119/691 [====>.........................] - ETA: 2:31 - loss: 0.6220 - auroc: 0.7171 - accuracy: 0.6564"
          ]
        },
        {
          "ename": "KeyboardInterrupt",
          "evalue": "ignored",
          "output_type": "error",
          "traceback": [
            "\u001b[0;31m---------------------------------------------------------------------------\u001b[0m",
            "\u001b[0;31mKeyboardInterrupt\u001b[0m                         Traceback (most recent call last)",
            "\u001b[0;32m<ipython-input-57-4b8eb46361cb>\u001b[0m in \u001b[0;36m<module>\u001b[0;34m()\u001b[0m\n\u001b[0;32m----> 1\u001b[0;31m \u001b[0mhitory\u001b[0m\u001b[0;34m=\u001b[0m\u001b[0mmodel1\u001b[0m\u001b[0;34m.\u001b[0m\u001b[0mfit\u001b[0m\u001b[0;34m(\u001b[0m\u001b[0mx\u001b[0m\u001b[0;34m=\u001b[0m\u001b[0mX_train\u001b[0m\u001b[0;34m,\u001b[0m\u001b[0my\u001b[0m\u001b[0;34m=\u001b[0m\u001b[0my_train\u001b[0m\u001b[0;34m,\u001b[0m\u001b[0mepochs\u001b[0m\u001b[0;34m=\u001b[0m\u001b[0;36m50\u001b[0m\u001b[0;34m,\u001b[0m\u001b[0mbatch_size\u001b[0m\u001b[0;34m=\u001b[0m\u001b[0;36m1024\u001b[0m\u001b[0;34m,\u001b[0m\u001b[0mvalidation_data\u001b[0m\u001b[0;34m=\u001b[0m\u001b[0;34m(\u001b[0m\u001b[0mX_test\u001b[0m\u001b[0;34m,\u001b[0m \u001b[0my_test\u001b[0m\u001b[0;34m)\u001b[0m\u001b[0;34m,\u001b[0m\u001b[0mcallbacks\u001b[0m\u001b[0;34m=\u001b[0m\u001b[0mcallbacks\u001b[0m\u001b[0;34m)\u001b[0m\u001b[0;34m\u001b[0m\u001b[0;34m\u001b[0m\u001b[0m\n\u001b[0m",
            "\u001b[0;32m/usr/local/lib/python3.7/dist-packages/keras/engine/training.py\u001b[0m in \u001b[0;36mfit\u001b[0;34m(self, x, y, batch_size, epochs, verbose, callbacks, validation_split, validation_data, shuffle, class_weight, sample_weight, initial_epoch, steps_per_epoch, validation_steps, validation_batch_size, validation_freq, max_queue_size, workers, use_multiprocessing)\u001b[0m\n\u001b[1;32m   1182\u001b[0m                 _r=1):\n\u001b[1;32m   1183\u001b[0m               \u001b[0mcallbacks\u001b[0m\u001b[0;34m.\u001b[0m\u001b[0mon_train_batch_begin\u001b[0m\u001b[0;34m(\u001b[0m\u001b[0mstep\u001b[0m\u001b[0;34m)\u001b[0m\u001b[0;34m\u001b[0m\u001b[0;34m\u001b[0m\u001b[0m\n\u001b[0;32m-> 1184\u001b[0;31m               \u001b[0mtmp_logs\u001b[0m \u001b[0;34m=\u001b[0m \u001b[0mself\u001b[0m\u001b[0;34m.\u001b[0m\u001b[0mtrain_function\u001b[0m\u001b[0;34m(\u001b[0m\u001b[0miterator\u001b[0m\u001b[0;34m)\u001b[0m\u001b[0;34m\u001b[0m\u001b[0;34m\u001b[0m\u001b[0m\n\u001b[0m\u001b[1;32m   1185\u001b[0m               \u001b[0;32mif\u001b[0m \u001b[0mdata_handler\u001b[0m\u001b[0;34m.\u001b[0m\u001b[0mshould_sync\u001b[0m\u001b[0;34m:\u001b[0m\u001b[0;34m\u001b[0m\u001b[0;34m\u001b[0m\u001b[0m\n\u001b[1;32m   1186\u001b[0m                 \u001b[0mcontext\u001b[0m\u001b[0;34m.\u001b[0m\u001b[0masync_wait\u001b[0m\u001b[0;34m(\u001b[0m\u001b[0;34m)\u001b[0m\u001b[0;34m\u001b[0m\u001b[0;34m\u001b[0m\u001b[0m\n",
            "\u001b[0;32m/usr/local/lib/python3.7/dist-packages/tensorflow/python/eager/def_function.py\u001b[0m in \u001b[0;36m__call__\u001b[0;34m(self, *args, **kwds)\u001b[0m\n\u001b[1;32m    883\u001b[0m \u001b[0;34m\u001b[0m\u001b[0m\n\u001b[1;32m    884\u001b[0m       \u001b[0;32mwith\u001b[0m \u001b[0mOptionalXlaContext\u001b[0m\u001b[0;34m(\u001b[0m\u001b[0mself\u001b[0m\u001b[0;34m.\u001b[0m\u001b[0m_jit_compile\u001b[0m\u001b[0;34m)\u001b[0m\u001b[0;34m:\u001b[0m\u001b[0;34m\u001b[0m\u001b[0;34m\u001b[0m\u001b[0m\n\u001b[0;32m--> 885\u001b[0;31m         \u001b[0mresult\u001b[0m \u001b[0;34m=\u001b[0m \u001b[0mself\u001b[0m\u001b[0;34m.\u001b[0m\u001b[0m_call\u001b[0m\u001b[0;34m(\u001b[0m\u001b[0;34m*\u001b[0m\u001b[0margs\u001b[0m\u001b[0;34m,\u001b[0m \u001b[0;34m**\u001b[0m\u001b[0mkwds\u001b[0m\u001b[0;34m)\u001b[0m\u001b[0;34m\u001b[0m\u001b[0;34m\u001b[0m\u001b[0m\n\u001b[0m\u001b[1;32m    886\u001b[0m \u001b[0;34m\u001b[0m\u001b[0m\n\u001b[1;32m    887\u001b[0m       \u001b[0mnew_tracing_count\u001b[0m \u001b[0;34m=\u001b[0m \u001b[0mself\u001b[0m\u001b[0;34m.\u001b[0m\u001b[0mexperimental_get_tracing_count\u001b[0m\u001b[0;34m(\u001b[0m\u001b[0;34m)\u001b[0m\u001b[0;34m\u001b[0m\u001b[0;34m\u001b[0m\u001b[0m\n",
            "\u001b[0;32m/usr/local/lib/python3.7/dist-packages/tensorflow/python/eager/def_function.py\u001b[0m in \u001b[0;36m_call\u001b[0;34m(self, *args, **kwds)\u001b[0m\n\u001b[1;32m    915\u001b[0m       \u001b[0;31m# In this case we have created variables on the first call, so we run the\u001b[0m\u001b[0;34m\u001b[0m\u001b[0;34m\u001b[0m\u001b[0;34m\u001b[0m\u001b[0m\n\u001b[1;32m    916\u001b[0m       \u001b[0;31m# defunned version which is guaranteed to never create variables.\u001b[0m\u001b[0;34m\u001b[0m\u001b[0;34m\u001b[0m\u001b[0;34m\u001b[0m\u001b[0m\n\u001b[0;32m--> 917\u001b[0;31m       \u001b[0;32mreturn\u001b[0m \u001b[0mself\u001b[0m\u001b[0;34m.\u001b[0m\u001b[0m_stateless_fn\u001b[0m\u001b[0;34m(\u001b[0m\u001b[0;34m*\u001b[0m\u001b[0margs\u001b[0m\u001b[0;34m,\u001b[0m \u001b[0;34m**\u001b[0m\u001b[0mkwds\u001b[0m\u001b[0;34m)\u001b[0m  \u001b[0;31m# pylint: disable=not-callable\u001b[0m\u001b[0;34m\u001b[0m\u001b[0;34m\u001b[0m\u001b[0m\n\u001b[0m\u001b[1;32m    918\u001b[0m     \u001b[0;32melif\u001b[0m \u001b[0mself\u001b[0m\u001b[0;34m.\u001b[0m\u001b[0m_stateful_fn\u001b[0m \u001b[0;32mis\u001b[0m \u001b[0;32mnot\u001b[0m \u001b[0;32mNone\u001b[0m\u001b[0;34m:\u001b[0m\u001b[0;34m\u001b[0m\u001b[0;34m\u001b[0m\u001b[0m\n\u001b[1;32m    919\u001b[0m       \u001b[0;31m# Release the lock early so that multiple threads can perform the call\u001b[0m\u001b[0;34m\u001b[0m\u001b[0;34m\u001b[0m\u001b[0;34m\u001b[0m\u001b[0m\n",
            "\u001b[0;32m/usr/local/lib/python3.7/dist-packages/tensorflow/python/eager/function.py\u001b[0m in \u001b[0;36m__call__\u001b[0;34m(self, *args, **kwargs)\u001b[0m\n\u001b[1;32m   3038\u001b[0m        filtered_flat_args) = self._maybe_define_function(args, kwargs)\n\u001b[1;32m   3039\u001b[0m     return graph_function._call_flat(\n\u001b[0;32m-> 3040\u001b[0;31m         filtered_flat_args, captured_inputs=graph_function.captured_inputs)  # pylint: disable=protected-access\n\u001b[0m\u001b[1;32m   3041\u001b[0m \u001b[0;34m\u001b[0m\u001b[0m\n\u001b[1;32m   3042\u001b[0m   \u001b[0;34m@\u001b[0m\u001b[0mproperty\u001b[0m\u001b[0;34m\u001b[0m\u001b[0;34m\u001b[0m\u001b[0m\n",
            "\u001b[0;32m/usr/local/lib/python3.7/dist-packages/tensorflow/python/eager/function.py\u001b[0m in \u001b[0;36m_call_flat\u001b[0;34m(self, args, captured_inputs, cancellation_manager)\u001b[0m\n\u001b[1;32m   1962\u001b[0m       \u001b[0;31m# No tape is watching; skip to running the function.\u001b[0m\u001b[0;34m\u001b[0m\u001b[0;34m\u001b[0m\u001b[0;34m\u001b[0m\u001b[0m\n\u001b[1;32m   1963\u001b[0m       return self._build_call_outputs(self._inference_function.call(\n\u001b[0;32m-> 1964\u001b[0;31m           ctx, args, cancellation_manager=cancellation_manager))\n\u001b[0m\u001b[1;32m   1965\u001b[0m     forward_backward = self._select_forward_and_backward_functions(\n\u001b[1;32m   1966\u001b[0m         \u001b[0margs\u001b[0m\u001b[0;34m,\u001b[0m\u001b[0;34m\u001b[0m\u001b[0;34m\u001b[0m\u001b[0m\n",
            "\u001b[0;32m/usr/local/lib/python3.7/dist-packages/tensorflow/python/eager/function.py\u001b[0m in \u001b[0;36mcall\u001b[0;34m(self, ctx, args, cancellation_manager)\u001b[0m\n\u001b[1;32m    594\u001b[0m               \u001b[0minputs\u001b[0m\u001b[0;34m=\u001b[0m\u001b[0margs\u001b[0m\u001b[0;34m,\u001b[0m\u001b[0;34m\u001b[0m\u001b[0;34m\u001b[0m\u001b[0m\n\u001b[1;32m    595\u001b[0m               \u001b[0mattrs\u001b[0m\u001b[0;34m=\u001b[0m\u001b[0mattrs\u001b[0m\u001b[0;34m,\u001b[0m\u001b[0;34m\u001b[0m\u001b[0;34m\u001b[0m\u001b[0m\n\u001b[0;32m--> 596\u001b[0;31m               ctx=ctx)\n\u001b[0m\u001b[1;32m    597\u001b[0m         \u001b[0;32melse\u001b[0m\u001b[0;34m:\u001b[0m\u001b[0;34m\u001b[0m\u001b[0;34m\u001b[0m\u001b[0m\n\u001b[1;32m    598\u001b[0m           outputs = execute.execute_with_cancellation(\n",
            "\u001b[0;32m/usr/local/lib/python3.7/dist-packages/tensorflow/python/eager/execute.py\u001b[0m in \u001b[0;36mquick_execute\u001b[0;34m(op_name, num_outputs, inputs, attrs, ctx, name)\u001b[0m\n\u001b[1;32m     58\u001b[0m     \u001b[0mctx\u001b[0m\u001b[0;34m.\u001b[0m\u001b[0mensure_initialized\u001b[0m\u001b[0;34m(\u001b[0m\u001b[0;34m)\u001b[0m\u001b[0;34m\u001b[0m\u001b[0;34m\u001b[0m\u001b[0m\n\u001b[1;32m     59\u001b[0m     tensors = pywrap_tfe.TFE_Py_Execute(ctx._handle, device_name, op_name,\n\u001b[0;32m---> 60\u001b[0;31m                                         inputs, attrs, num_outputs)\n\u001b[0m\u001b[1;32m     61\u001b[0m   \u001b[0;32mexcept\u001b[0m \u001b[0mcore\u001b[0m\u001b[0;34m.\u001b[0m\u001b[0m_NotOkStatusException\u001b[0m \u001b[0;32mas\u001b[0m \u001b[0me\u001b[0m\u001b[0;34m:\u001b[0m\u001b[0;34m\u001b[0m\u001b[0;34m\u001b[0m\u001b[0m\n\u001b[1;32m     62\u001b[0m     \u001b[0;32mif\u001b[0m \u001b[0mname\u001b[0m \u001b[0;32mis\u001b[0m \u001b[0;32mnot\u001b[0m \u001b[0;32mNone\u001b[0m\u001b[0;34m:\u001b[0m\u001b[0;34m\u001b[0m\u001b[0;34m\u001b[0m\u001b[0m\n",
            "\u001b[0;31mKeyboardInterrupt\u001b[0m: "
          ]
        }
      ],
      "source": [
        "hitory=model1.fit(x=X_train,y=y_train,epochs=50,batch_size=1024,validation_data=(X_test, y_test),callbacks=callbacks)"
      ]
    },
    {
      "cell_type": "code",
      "execution_count": null,
      "id": "sDfuCRv3YeyD",
      "metadata": {
        "id": "sDfuCRv3YeyD"
      },
      "outputs": [],
      "source": [
        ""
      ]
    }
  ],
  "metadata": {
    "accelerator": "GPU",
    "colab": {
      "name": "Deep_learning_LSTM.ipynb",
      "provenance": []
    },
    "kernelspec": {
      "display_name": "Python 3.8 (tensorflow)",
      "language": "python",
      "name": "tensorflow"
    },
    "language_info": {
      "codemirror_mode": {
        "name": "ipython",
        "version": 3
      },
      "file_extension": ".py",
      "mimetype": "text/x-python",
      "name": "python",
      "nbconvert_exporter": "python",
      "pygments_lexer": "ipython3",
      "version": "3.8.12"
    }
  },
  "nbformat": 4,
  "nbformat_minor": 5
}